{
  "nbformat": 4,
  "nbformat_minor": 0,
  "metadata": {
    "colab": {
      "name": "Cats vs Dogs Classification using CNN Keras.ipynb",
      "provenance": [],
      "collapsed_sections": []
    },
    "kernelspec": {
      "name": "python3",
      "display_name": "Python 3"
    },
    "language_info": {
      "name": "python"
    },
    "accelerator": "GPU"
  },
  "cells": [
    {
      "cell_type": "code",
      "metadata": {
        "id": "fGyOjQ17Nd3X",
        "colab": {
          "base_uri": "https://localhost:8080/"
        },
        "outputId": "79aab79a-fe1c-4f4d-a933-c4efe3a2dd45"
      },
      "source": [
        "##Setup Kaggel Api key and username to download the data\n",
        "import os\n",
        "os.environ['KAGGLE_USERNAME'] = \"saurabhpojhi\" # username from the json file\n",
        "os.environ['KAGGLE_KEY'] = \"dc18e41728bd4122b15268bb510846b1\" # Provide your key from the json file\n",
        "!kaggle competitions download -c dogs-vs-cats # api copied from kaggle"
      ],
      "execution_count": 44,
      "outputs": [
        {
          "output_type": "stream",
          "name": "stdout",
          "text": [
            "Warning: Looks like you're using an outdated API Version, please consider updating (server 1.5.12 / client 1.5.4)\n",
            "sampleSubmission.csv: Skipping, found more recently modified local copy (use --force to force download)\n",
            "test1.zip: Skipping, found more recently modified local copy (use --force to force download)\n",
            "train.zip: Skipping, found more recently modified local copy (use --force to force download)\n"
          ]
        }
      ]
    },
    {
      "cell_type": "code",
      "metadata": {
        "colab": {
          "base_uri": "https://localhost:8080/"
        },
        "id": "DuKQn3ZX49Hf",
        "outputId": "03f4be71-fe9b-421c-a859-40a6fa33a957"
      },
      "source": [
        "# Upload data and extract the contents\n",
        "from zipfile import ZipFile\n",
        "\n",
        "file_name = \"/content/train.zip\"\n",
        "\n",
        "with ZipFile(file_name, 'r') as zip:\n",
        "  zip.extractall()\n",
        "  print('done')"
      ],
      "execution_count": 45,
      "outputs": [
        {
          "output_type": "stream",
          "name": "stdout",
          "text": [
            "done\n"
          ]
        }
      ]
    },
    {
      "cell_type": "code",
      "metadata": {
        "colab": {
          "base_uri": "https://localhost:8080/",
          "height": 207
        },
        "id": "UM0owfgh6H30",
        "outputId": "3a8e72c2-ca9e-42aa-ab6c-70c9c82fef2a"
      },
      "source": [
        "data_dir_list = os.listdir('/content/train') # jere my train dataset main directery\n",
        "#print(data_dir_list)\n",
        "\n",
        "path, dirs, files = next(os.walk(\"/content/train\"))  # here i am counting the no. of files \n",
        "file_count = len(files)\n",
        "print(file_count)\n",
        "\n",
        "original_dataset_dir = '/content/train' # here is my original dataset directery\n",
        "base_dir = '/content/cats_and_dogs_small' # i am creating another directory for store train dataset\n",
        "os.mkdir(base_dir) #make base directory"
      ],
      "execution_count": 47,
      "outputs": [
        {
          "output_type": "stream",
          "name": "stdout",
          "text": [
            "25000\n"
          ]
        },
        {
          "output_type": "error",
          "ename": "FileExistsError",
          "evalue": "ignored",
          "traceback": [
            "\u001b[0;31m---------------------------------------------------------------------------\u001b[0m",
            "\u001b[0;31mFileExistsError\u001b[0m                           Traceback (most recent call last)",
            "\u001b[0;32m<ipython-input-47-e2778938fad1>\u001b[0m in \u001b[0;36m<module>\u001b[0;34m()\u001b[0m\n\u001b[1;32m      8\u001b[0m \u001b[0moriginal_dataset_dir\u001b[0m \u001b[0;34m=\u001b[0m \u001b[0;34m'/content/train'\u001b[0m \u001b[0;31m# here is my original dataset directery\u001b[0m\u001b[0;34m\u001b[0m\u001b[0;34m\u001b[0m\u001b[0m\n\u001b[1;32m      9\u001b[0m \u001b[0mbase_dir\u001b[0m \u001b[0;34m=\u001b[0m \u001b[0;34m'/content/cats_and_dogs_small'\u001b[0m \u001b[0;31m# i am creating another directory for store train dataset\u001b[0m\u001b[0;34m\u001b[0m\u001b[0;34m\u001b[0m\u001b[0m\n\u001b[0;32m---> 10\u001b[0;31m \u001b[0mos\u001b[0m\u001b[0;34m.\u001b[0m\u001b[0mmkdir\u001b[0m\u001b[0;34m(\u001b[0m\u001b[0mbase_dir\u001b[0m\u001b[0;34m)\u001b[0m \u001b[0;31m#make base directory\u001b[0m\u001b[0;34m\u001b[0m\u001b[0;34m\u001b[0m\u001b[0m\n\u001b[0m",
            "\u001b[0;31mFileExistsError\u001b[0m: [Errno 17] File exists: '/content/cats_and_dogs_small'"
          ]
        }
      ]
    },
    {
      "cell_type": "code",
      "metadata": {
        "colab": {
          "base_uri": "https://localhost:8080/",
          "height": 223
        },
        "id": "JDILoxa468Pg",
        "outputId": "df2b8e98-373c-4203-ff45-d9137a5103d0"
      },
      "source": [
        "#Create directory paths for train, valid, test datasets\n",
        "\n",
        "train_dir = os.path.join(base_dir, 'train')  # create train dir forlder for training dataset\n",
        "os.mkdir(train_dir)\n",
        "\n",
        "validation_dir = os.path.join(base_dir, 'validation') # create valdation dir  folder for validate dataset\n",
        "os.mkdir(validation_dir)\n",
        "\n",
        "test_dir = os.path.join(base_dir, 'test') # create test dir  folder for testing dataset\n",
        "os.mkdir(test_dir)\n",
        "\n",
        "train_cats_dir = os.path.join(train_dir, 'cats') # here under train_dir i am create cat dir folder\n",
        "os.mkdir(train_cats_dir)\n",
        "\n",
        "train_dogs_dir = os.path.join(train_dir, 'dogs') # here under train_dir i am create dog dir folder\n",
        "os.mkdir(train_dogs_dir)\n",
        "\n",
        "validation_cats_dir = os.path.join(validation_dir, 'cats') # here under validation_dir i am create cat dir folder\n",
        "os.mkdir(validation_cats_dir)\n",
        "\n",
        "validation_dogs_dir = os.path.join(validation_dir, 'dogs') # here under validation_dir i am create dog dir folder\n",
        "os.mkdir(validation_dogs_dir)\n",
        "\n",
        "test_cats_dir = os.path.join(test_dir, 'cats') # here under test_dir i am create cat dir folder\n",
        "os.mkdir(test_cats_dir)\n",
        "\n",
        "test_dogs_dir = os.path.join(test_dir, 'dogs') # here under test_dir i am create dog dir folder\n",
        "os.mkdir(test_dogs_dir)"
      ],
      "execution_count": 48,
      "outputs": [
        {
          "output_type": "error",
          "ename": "FileExistsError",
          "evalue": "ignored",
          "traceback": [
            "\u001b[0;31m---------------------------------------------------------------------------\u001b[0m",
            "\u001b[0;31mFileExistsError\u001b[0m                           Traceback (most recent call last)",
            "\u001b[0;32m<ipython-input-48-04596481c297>\u001b[0m in \u001b[0;36m<module>\u001b[0;34m()\u001b[0m\n\u001b[1;32m      2\u001b[0m \u001b[0;34m\u001b[0m\u001b[0m\n\u001b[1;32m      3\u001b[0m \u001b[0mtrain_dir\u001b[0m \u001b[0;34m=\u001b[0m \u001b[0mos\u001b[0m\u001b[0;34m.\u001b[0m\u001b[0mpath\u001b[0m\u001b[0;34m.\u001b[0m\u001b[0mjoin\u001b[0m\u001b[0;34m(\u001b[0m\u001b[0mbase_dir\u001b[0m\u001b[0;34m,\u001b[0m \u001b[0;34m'train'\u001b[0m\u001b[0;34m)\u001b[0m  \u001b[0;31m# create train dir forlder for training dataset\u001b[0m\u001b[0;34m\u001b[0m\u001b[0;34m\u001b[0m\u001b[0m\n\u001b[0;32m----> 4\u001b[0;31m \u001b[0mos\u001b[0m\u001b[0;34m.\u001b[0m\u001b[0mmkdir\u001b[0m\u001b[0;34m(\u001b[0m\u001b[0mtrain_dir\u001b[0m\u001b[0;34m)\u001b[0m\u001b[0;34m\u001b[0m\u001b[0;34m\u001b[0m\u001b[0m\n\u001b[0m\u001b[1;32m      5\u001b[0m \u001b[0;34m\u001b[0m\u001b[0m\n\u001b[1;32m      6\u001b[0m \u001b[0mvalidation_dir\u001b[0m \u001b[0;34m=\u001b[0m \u001b[0mos\u001b[0m\u001b[0;34m.\u001b[0m\u001b[0mpath\u001b[0m\u001b[0;34m.\u001b[0m\u001b[0mjoin\u001b[0m\u001b[0;34m(\u001b[0m\u001b[0mbase_dir\u001b[0m\u001b[0;34m,\u001b[0m \u001b[0;34m'validation'\u001b[0m\u001b[0;34m)\u001b[0m \u001b[0;31m# create valdation dir  folder for validate dataset\u001b[0m\u001b[0;34m\u001b[0m\u001b[0;34m\u001b[0m\u001b[0m\n",
            "\u001b[0;31mFileExistsError\u001b[0m: [Errno 17] File exists: '/content/cats_and_dogs_small/train'"
          ]
        }
      ]
    },
    {
      "cell_type": "code",
      "metadata": {
        "id": "ombogUDS89g1"
      },
      "source": [
        "import shutil\n",
        "\n",
        "fnames = ['cat.{}.jpg'.format(i) for i in range(1000)]       # here i am take 1000 image of cat for train\n",
        "for fname in fnames:\n",
        "     src = os.path.join(original_dataset_dir, fname)\n",
        "     dst = os.path.join(train_cats_dir, fname)\n",
        "     #print(src,dst)\n",
        "     shutil.copyfile(src, dst)\n",
        "    \n",
        "fnames = ['cat.{}.jpg'.format(i) for i in range(1000, 1500)]  # here i am take 1000to 15000 means 500 image of cat for validation\n",
        "for fname in fnames:\n",
        "     src = os.path.join(original_dataset_dir, fname)\n",
        "     dst = os.path.join(validation_cats_dir, fname)\n",
        "     shutil.copyfile(src, dst)\n",
        "\n",
        "fnames = ['cat.{}.jpg'.format(i) for i in range(1500, 2000)]  # here i am take 1500 to 2000  means 500 image of cat for test\n",
        "for fname in fnames:\n",
        "     src = os.path.join(original_dataset_dir, fname)\n",
        "     dst = os.path.join(test_cats_dir, fname)\n",
        "     shutil.copyfile(src, dst)\n",
        "    \n",
        "fnames = ['dog.{}.jpg'.format(i) for i in range(1000)] # here i am take 1000 image of dog for train\n",
        "for fname in fnames:\n",
        "    src = os.path.join(original_dataset_dir, fname)\n",
        "    dst = os.path.join(train_dogs_dir, fname)\n",
        "    shutil.copyfile(src, dst)\n",
        "\n",
        "fnames = ['dog.{}.jpg'.format(i) for i in range(1000, 1500)] # here i am take 1000 to 1500 means 500 image of dog for validation\n",
        "for fname in fnames:\n",
        "     src = os.path.join(original_dataset_dir, fname)\n",
        "     dst = os.path.join(validation_dogs_dir, fname)\n",
        "     shutil.copyfile(src, dst)\n",
        "\n",
        "fnames = ['dog.{}.jpg'.format(i) for i in range(1500, 2000)] # here i am take 1500 to 2000 means 500 image of dog for test\n",
        "for fname in fnames:\n",
        "     src = os.path.join(original_dataset_dir, fname)\n",
        "     dst = os.path.join(test_dogs_dir, fname)\n",
        "     shutil.copyfile(src, dst)"
      ],
      "execution_count": 49,
      "outputs": []
    },
    {
      "cell_type": "code",
      "metadata": {
        "colab": {
          "base_uri": "https://localhost:8080/"
        },
        "id": "Z2QiZ2njB5ja",
        "outputId": "a382f96b-cbae-414d-a863-13a445fcddd8"
      },
      "source": [
        "# here print the how many images in each folder \n",
        "print('total training cat images:', len(os.listdir(train_cats_dir)))\n",
        "print('total training dog images:', len(os.listdir(train_dogs_dir)))\n",
        "print('total validation cat images:', len(os.listdir(validation_cats_dir)))\n",
        "\n",
        "print('total validation dog images:', len(os.listdir(validation_dogs_dir)))\n",
        "print('total test cat images:', len(os.listdir(test_cats_dir)))\n",
        "print('total test dog images:', len(os.listdir(test_dogs_dir)))"
      ],
      "execution_count": 50,
      "outputs": [
        {
          "output_type": "stream",
          "name": "stdout",
          "text": [
            "total training cat images: 1000\n",
            "total training dog images: 1000\n",
            "total validation cat images: 500\n",
            "total validation dog images: 500\n",
            "total test cat images: 500\n",
            "total test dog images: 500\n"
          ]
        }
      ]
    },
    {
      "cell_type": "code",
      "metadata": {
        "id": "2Ii-6tOcCVXr"
      },
      "source": [
        " # building the model using keras \n",
        " from keras import layers\n",
        "from keras import models\n",
        "\n",
        "#Created sequential models using Keras\n",
        "model = models.Sequential()\n",
        "model.add(layers.Conv2D(32, (3, 3), activation='relu', input_shape=(150, 150, 3))) # here 32 kernel 3 , 3 size here my image size is 150, 150 ,3 \n",
        "model.add(layers.MaxPooling2D((2, 2)))\n",
        "model.add(layers.Conv2D(64, (3, 3), activation='relu'))\n",
        "model.add(layers.MaxPooling2D((2, 2)))\n",
        "model.add(layers.Conv2D(128, (3, 3), activation='relu'))\n",
        "model.add(layers.MaxPooling2D((2, 2)))\n",
        "model.add(layers.Conv2D(128, (3, 3), activation='relu'))\n",
        "model.add(layers.MaxPooling2D((2, 2)))\n",
        "model.add(layers.Flatten())\n",
        "model.add(layers.Dense(512, activation='relu'))\n",
        "model.add(layers.Dense(1, activation='sigmoid'))"
      ],
      "execution_count": 51,
      "outputs": []
    },
    {
      "cell_type": "code",
      "metadata": {
        "colab": {
          "base_uri": "https://localhost:8080/"
        },
        "id": "AmThEWN1Cqf9",
        "outputId": "f4d022ed-50d6-4dd1-a0f1-6b3dcac8cbc1"
      },
      "source": [
        "model.summary()"
      ],
      "execution_count": 52,
      "outputs": [
        {
          "output_type": "stream",
          "name": "stdout",
          "text": [
            "Model: \"sequential_2\"\n",
            "_________________________________________________________________\n",
            "Layer (type)                 Output Shape              Param #   \n",
            "=================================================================\n",
            "conv2d_8 (Conv2D)            (None, 148, 148, 32)      896       \n",
            "_________________________________________________________________\n",
            "max_pooling2d_8 (MaxPooling2 (None, 74, 74, 32)        0         \n",
            "_________________________________________________________________\n",
            "conv2d_9 (Conv2D)            (None, 72, 72, 64)        18496     \n",
            "_________________________________________________________________\n",
            "max_pooling2d_9 (MaxPooling2 (None, 36, 36, 64)        0         \n",
            "_________________________________________________________________\n",
            "conv2d_10 (Conv2D)           (None, 34, 34, 128)       73856     \n",
            "_________________________________________________________________\n",
            "max_pooling2d_10 (MaxPooling (None, 17, 17, 128)       0         \n",
            "_________________________________________________________________\n",
            "conv2d_11 (Conv2D)           (None, 15, 15, 128)       147584    \n",
            "_________________________________________________________________\n",
            "max_pooling2d_11 (MaxPooling (None, 7, 7, 128)         0         \n",
            "_________________________________________________________________\n",
            "flatten_2 (Flatten)          (None, 6272)              0         \n",
            "_________________________________________________________________\n",
            "dense_4 (Dense)              (None, 512)               3211776   \n",
            "_________________________________________________________________\n",
            "dense_5 (Dense)              (None, 1)                 513       \n",
            "=================================================================\n",
            "Total params: 3,453,121\n",
            "Trainable params: 3,453,121\n",
            "Non-trainable params: 0\n",
            "_________________________________________________________________\n"
          ]
        }
      ]
    },
    {
      "cell_type": "code",
      "metadata": {
        "id": "bibG0-HQHKJ8"
      },
      "source": [
        "#from tensorflow.keras import optimizers\n",
        "#from keras import optimizers\n",
        "#optimizers.RMSprop()\n",
        "#model.compile(loss='binary_crossentropy', \n",
        " #             opt = tensorflow.keras.optimizers.RMSprop()\n",
        "  ##             # optimizer = keras.optimizers.RMSprop(lr=0.0003, decay=1e-6),\n",
        "    #          metrics=['acc'])"
      ],
      "execution_count": 63,
      "outputs": []
    },
    {
      "cell_type": "code",
      "metadata": {
        "id": "fxqITUGhJ1Kd"
      },
      "source": [
        "\n",
        "import tensorflow\n",
        "from tensorflow.keras import optimizers\n",
        "from keras import optimizers\n",
        "model.compile(loss='binary_crossentropy', \n",
        "              optimizer = tf.keras.optimizers.RMSprop(learning_rate=0.1),\n",
        "              metrics=['acc'])"
      ],
      "execution_count": 70,
      "outputs": []
    },
    {
      "cell_type": "code",
      "metadata": {
        "colab": {
          "base_uri": "https://localhost:8080/"
        },
        "id": "rt3tIusILRVK",
        "outputId": "6307c451-0eb6-4301-b051-b5f3b8e2b72b"
      },
      "source": [
        "from keras.preprocessing.image import ImageDataGenerator  #here i am using data augmentaion \n",
        "\n",
        "train_datagen = ImageDataGenerator(rescale=1./255)        # here i am rescale the images \n",
        "test_datagen = ImageDataGenerator(rescale=1./255)\n",
        "\n",
        "train_generator = train_datagen.flow_from_directory(train_dir,              \n",
        "                                                    target_size=(150, 150), \n",
        "                                                    batch_size=20,\n",
        "                                                    class_mode='binary')\n",
        "\n",
        "validation_generator = test_datagen.flow_from_directory(validation_dir,\n",
        "                                                        target_size=(150, 150),\n",
        "                                                        batch_size=20,\n",
        "                                                        class_mode='binary')"
      ],
      "execution_count": 72,
      "outputs": [
        {
          "output_type": "stream",
          "name": "stdout",
          "text": [
            "Found 2000 images belonging to 2 classes.\n",
            "Found 1000 images belonging to 2 classes.\n"
          ]
        }
      ]
    },
    {
      "cell_type": "code",
      "metadata": {
        "colab": {
          "base_uri": "https://localhost:8080/"
        },
        "id": "-KlQy5HoMr6Q",
        "outputId": "40ef1cae-de4c-458f-8905-db0f7665511c"
      },
      "source": [
        "history = model.fit_generator(train_generator,\n",
        "                              steps_per_epoch=100,\n",
        "                              epochs=30,\n",
        "                              validation_data=validation_generator,\n",
        "                              validation_steps=10)"
      ],
      "execution_count": 73,
      "outputs": [
        {
          "metadata": {
            "tags": null
          },
          "name": "stderr",
          "output_type": "stream",
          "text": [
            "/usr/local/lib/python3.7/dist-packages/keras/engine/training.py:1972: UserWarning: `Model.fit_generator` is deprecated and will be removed in a future version. Please use `Model.fit`, which supports generators.\n",
            "  warnings.warn('`Model.fit_generator` is deprecated and '\n"
          ]
        },
        {
          "output_type": "stream",
          "name": "stdout",
          "text": [
            "Epoch 1/30\n",
            "100/100 [==============================] - 95s 939ms/step - loss: 161547296.0000 - acc: 0.4980 - val_loss: 0.6948 - val_acc: 0.5100\n",
            "Epoch 2/30\n",
            "100/100 [==============================] - 93s 933ms/step - loss: 0.7065 - acc: 0.4990 - val_loss: 0.6942 - val_acc: 0.4600\n",
            "Epoch 3/30\n",
            "100/100 [==============================] - 93s 932ms/step - loss: 0.6977 - acc: 0.5010 - val_loss: 0.6927 - val_acc: 0.5150\n",
            "Epoch 4/30\n",
            "100/100 [==============================] - 93s 931ms/step - loss: 0.6967 - acc: 0.4950 - val_loss: 0.6926 - val_acc: 0.5150\n",
            "Epoch 5/30\n",
            "100/100 [==============================] - 93s 931ms/step - loss: 0.6954 - acc: 0.5060 - val_loss: 0.7016 - val_acc: 0.5000\n",
            "Epoch 6/30\n",
            "100/100 [==============================] - 93s 932ms/step - loss: 0.6968 - acc: 0.5000 - val_loss: 0.6927 - val_acc: 0.5200\n",
            "Epoch 7/30\n",
            "100/100 [==============================] - 93s 934ms/step - loss: 0.6971 - acc: 0.4790 - val_loss: 0.6987 - val_acc: 0.5250\n",
            "Epoch 8/30\n",
            "100/100 [==============================] - 93s 932ms/step - loss: 0.6971 - acc: 0.4950 - val_loss: 0.6920 - val_acc: 0.5300\n",
            "Epoch 9/30\n",
            "100/100 [==============================] - 93s 932ms/step - loss: 0.6965 - acc: 0.4960 - val_loss: 0.6975 - val_acc: 0.5000\n",
            "Epoch 10/30\n",
            "100/100 [==============================] - 93s 931ms/step - loss: 0.6959 - acc: 0.5000 - val_loss: 0.6932 - val_acc: 0.4650\n",
            "Epoch 11/30\n",
            "100/100 [==============================] - 93s 932ms/step - loss: 0.6968 - acc: 0.4780 - val_loss: 0.6940 - val_acc: 0.4850\n",
            "Epoch 12/30\n",
            "100/100 [==============================] - 93s 933ms/step - loss: 0.6945 - acc: 0.5160 - val_loss: 0.6930 - val_acc: 0.5100\n",
            "Epoch 13/30\n",
            "100/100 [==============================] - 93s 934ms/step - loss: 0.6974 - acc: 0.4770 - val_loss: 0.6910 - val_acc: 0.5350\n",
            "Epoch 14/30\n",
            "100/100 [==============================] - 93s 933ms/step - loss: 0.6958 - acc: 0.5010 - val_loss: 0.6984 - val_acc: 0.4950\n",
            "Epoch 15/30\n",
            "100/100 [==============================] - 93s 932ms/step - loss: 0.6967 - acc: 0.4860 - val_loss: 0.6895 - val_acc: 0.5450\n",
            "Epoch 16/30\n",
            "100/100 [==============================] - 93s 933ms/step - loss: 0.6967 - acc: 0.5000 - val_loss: 0.6923 - val_acc: 0.5250\n",
            "Epoch 17/30\n",
            "100/100 [==============================] - 93s 934ms/step - loss: 0.6969 - acc: 0.4860 - val_loss: 0.6952 - val_acc: 0.5100\n",
            "Epoch 18/30\n",
            "100/100 [==============================] - 93s 933ms/step - loss: 0.6932 - acc: 0.5230 - val_loss: 0.6953 - val_acc: 0.4750\n",
            "Epoch 19/30\n",
            "100/100 [==============================] - 93s 933ms/step - loss: 0.6959 - acc: 0.5140 - val_loss: 0.7093 - val_acc: 0.4350\n",
            "Epoch 20/30\n",
            "100/100 [==============================] - 93s 932ms/step - loss: 0.6946 - acc: 0.5120 - val_loss: 0.6946 - val_acc: 0.5350\n",
            "Epoch 21/30\n",
            "100/100 [==============================] - 93s 932ms/step - loss: 0.6965 - acc: 0.4810 - val_loss: 0.6967 - val_acc: 0.5000\n",
            "Epoch 22/30\n",
            "100/100 [==============================] - 93s 932ms/step - loss: 0.6954 - acc: 0.5020 - val_loss: 0.6912 - val_acc: 0.5300\n",
            "Epoch 23/30\n",
            "100/100 [==============================] - 94s 937ms/step - loss: 0.6972 - acc: 0.4810 - val_loss: 0.6929 - val_acc: 0.5150\n",
            "Epoch 24/30\n",
            "100/100 [==============================] - 93s 931ms/step - loss: 0.6969 - acc: 0.4900 - val_loss: 0.6931 - val_acc: 0.5100\n",
            "Epoch 25/30\n",
            "100/100 [==============================] - 93s 933ms/step - loss: 0.6954 - acc: 0.5040 - val_loss: 0.6943 - val_acc: 0.4900\n",
            "Epoch 26/30\n",
            "100/100 [==============================] - 93s 934ms/step - loss: 0.6971 - acc: 0.4940 - val_loss: 0.7004 - val_acc: 0.4900\n",
            "Epoch 27/30\n",
            "100/100 [==============================] - 93s 934ms/step - loss: 0.6961 - acc: 0.5060 - val_loss: 0.6937 - val_acc: 0.4850\n",
            "Epoch 28/30\n",
            "100/100 [==============================] - 93s 934ms/step - loss: 0.6970 - acc: 0.4960 - val_loss: 0.6928 - val_acc: 0.5150\n",
            "Epoch 29/30\n",
            "100/100 [==============================] - 94s 935ms/step - loss: 0.6973 - acc: 0.4900 - val_loss: 0.6929 - val_acc: 0.5150\n",
            "Epoch 30/30\n",
            "100/100 [==============================] - 94s 936ms/step - loss: 0.6963 - acc: 0.5070 - val_loss: 0.7056 - val_acc: 0.4300\n"
          ]
        }
      ]
    },
    {
      "cell_type": "code",
      "metadata": {
        "id": "lVBwWTcnfAO_"
      },
      "source": [
        "model.save('cats_and_dogs_small_1.h5')   # save model"
      ],
      "execution_count": 74,
      "outputs": []
    },
    {
      "cell_type": "code",
      "metadata": {
        "colab": {
          "base_uri": "https://localhost:8080/",
          "height": 545
        },
        "id": "jUWP24jRfEMG",
        "outputId": "64526954-af18-42ed-8efd-9c734f3d7a1f"
      },
      "source": [
        "import matplotlib.pyplot as plt\n",
        "\n",
        "acc = history.history['acc']\n",
        "val_acc = history.history['val_acc']\n",
        "loss = history.history['loss']\n",
        "val_loss = history.history['val_loss']\n",
        "\n",
        "epochs = range(1, len(acc) + 1)\n",
        "\n",
        "plt.plot(epochs, acc, 'bo', label='Training acc')\n",
        "plt.plot(epochs, val_acc, 'b', label='Validation acc')\n",
        "plt.title('Training and validation accuracy')\n",
        "plt.legend()\n",
        "\n",
        "plt.figure()\n",
        "\n",
        "plt.plot(epochs, loss, 'bo', label='Training loss')\n",
        "plt.plot(epochs, val_loss, 'b', label='Validation loss')\n",
        "plt.title('Training and validation loss')\n",
        "plt.legend()\n",
        "\n",
        "plt.show()"
      ],
      "execution_count": 75,
      "outputs": [
        {
          "output_type": "display_data",
          "data": {
            "image/png": "[encoded data removed]",
            "text/plain": [
              "<Figure size 432x288 with 1 Axes>"
            ]
          },
          "metadata": {
            "needs_background": "light"
          }
        },
        {
          "output_type": "display_data",
          "data": {
            "image/png": "[encoded data removed]",
            "text/plain": [
              "<Figure size 432x288 with 1 Axes>"
            ]
          },
          "metadata": {
            "needs_background": "light"
          }
        }
      ]
    },
    {
      "cell_type": "code",
      "metadata": {
        "id": "rDFX7tZ6iLNl"
      },
      "source": [
        ""
      ],
      "execution_count": null,
      "outputs": []
    },
    {
      "cell_type": "markdown",
      "metadata": {
        "id": "PVl0DMHcfwlC"
      },
      "source": [
        " now we get the overfittiing the data and now apply dropout "
      ]
    },
    {
      "cell_type": "code",
      "metadata": {
        "colab": {
          "base_uri": "https://localhost:8080/"
        },
        "id": "B_Dg8RDVf5ad",
        "outputId": "3f9edbeb-a21c-4343-a641-0e580034bc7e"
      },
      "source": [
        "model = models.Sequential()\n",
        "model.add(layers.Conv2D(32, (3, 3), activation='relu',\n",
        "input_shape=(150, 150, 3)))\n",
        "model.add(layers.MaxPooling2D((2, 2)))\n",
        "model.add(layers.Conv2D(64, (3, 3), activation='relu'))\n",
        "model.add(layers.MaxPooling2D((2, 2)))\n",
        "model.add(layers.Conv2D(128, (3, 3), activation='relu'))\n",
        "model.add(layers.MaxPooling2D((2, 2)))\n",
        "model.add(layers.Conv2D(128, (3, 3), activation='relu'))\n",
        "model.add(layers.MaxPooling2D((2, 2)))\n",
        "model.add(layers.Flatten())\n",
        "model.add(layers.Dropout(0.5))\n",
        "model.add(layers.Dense(512, activation='relu'))\n",
        "model.add(layers.Dense(1, activation='sigmoid'))\n",
        "\n",
        "model.summary()"
      ],
      "execution_count": 76,
      "outputs": [
        {
          "output_type": "stream",
          "name": "stdout",
          "text": [
            "Model: \"sequential_3\"\n",
            "_________________________________________________________________\n",
            "Layer (type)                 Output Shape              Param #   \n",
            "=================================================================\n",
            "conv2d_12 (Conv2D)           (None, 148, 148, 32)      896       \n",
            "_________________________________________________________________\n",
            "max_pooling2d_12 (MaxPooling (None, 74, 74, 32)        0         \n",
            "_________________________________________________________________\n",
            "conv2d_13 (Conv2D)           (None, 72, 72, 64)        18496     \n",
            "_________________________________________________________________\n",
            "max_pooling2d_13 (MaxPooling (None, 36, 36, 64)        0         \n",
            "_________________________________________________________________\n",
            "conv2d_14 (Conv2D)           (None, 34, 34, 128)       73856     \n",
            "_________________________________________________________________\n",
            "max_pooling2d_14 (MaxPooling (None, 17, 17, 128)       0         \n",
            "_________________________________________________________________\n",
            "conv2d_15 (Conv2D)           (None, 15, 15, 128)       147584    \n",
            "_________________________________________________________________\n",
            "max_pooling2d_15 (MaxPooling (None, 7, 7, 128)         0         \n",
            "_________________________________________________________________\n",
            "flatten_3 (Flatten)          (None, 6272)              0         \n",
            "_________________________________________________________________\n",
            "dropout (Dropout)            (None, 6272)              0         \n",
            "_________________________________________________________________\n",
            "dense_6 (Dense)              (None, 512)               3211776   \n",
            "_________________________________________________________________\n",
            "dense_7 (Dense)              (None, 1)                 513       \n",
            "=================================================================\n",
            "Total params: 3,453,121\n",
            "Trainable params: 3,453,121\n",
            "Non-trainable params: 0\n",
            "_________________________________________________________________\n"
          ]
        }
      ]
    },
    {
      "cell_type": "code",
      "metadata": {
        "id": "NzfaIZ1LgOwH"
      },
      "source": [
        "import tensorflow\n",
        "from tensorflow.keras import optimizers\n",
        "from keras import optimizers\n",
        "model.compile(loss='binary_crossentropy', \n",
        "              optimizer = tf.keras.optimizers.RMSprop(learning_rate=0.1),\n",
        "              metrics=['acc'])"
      ],
      "execution_count": 77,
      "outputs": []
    },
    {
      "cell_type": "code",
      "metadata": {
        "colab": {
          "base_uri": "https://localhost:8080/"
        },
        "id": "DfASY-fqgcAv",
        "outputId": "94b81c5e-7d08-48ce-83a0-a9417dc57044"
      },
      "source": [
        "train_datagen = ImageDataGenerator(rescale=1./255,\n",
        "                                   rotation_range=40,\n",
        "                                   width_shift_range=0.2,\n",
        "                                   height_shift_range=0.2,\n",
        "                                   shear_range=0.2,\n",
        "                                   zoom_range=0.2,\n",
        "                                   horizontal_flip=True,)\n",
        "\n",
        "test_datagen = ImageDataGenerator(rescale=1./255)\n",
        "\n",
        "train_generator = train_datagen.flow_from_directory(train_dir,\n",
        "                                                    target_size=(150, 150),\n",
        "                                                    batch_size=32,\n",
        "                                                    class_mode='binary')\n",
        "\n",
        "validation_generator = test_datagen.flow_from_directory(validation_dir,\n",
        "                                                        target_size=(150, 150),\n",
        "                                                        batch_size=32,\n",
        "                                                        class_mode='binary')\n",
        "\n"
      ],
      "execution_count": 79,
      "outputs": [
        {
          "output_type": "stream",
          "name": "stdout",
          "text": [
            "Found 2000 images belonging to 2 classes.\n",
            "Found 1000 images belonging to 2 classes.\n"
          ]
        }
      ]
    },
    {
      "cell_type": "code",
      "metadata": {
        "colab": {
          "base_uri": "https://localhost:8080/"
        },
        "id": "Ya7yuWFxhY0Z",
        "outputId": "e1312b0f-601c-4b05-b9a6-0ba03efc81b4"
      },
      "source": [
        "history = model.fit_generator(train_generator,\n",
        "                              steps_per_epoch=100,\n",
        "                              epochs=30,\n",
        "                              validation_data=validation_generator,\n",
        "                              validation_steps=10)"
      ],
      "execution_count": 82,
      "outputs": [
        {
          "output_type": "stream",
          "name": "stderr",
          "text": [
            "/usr/local/lib/python3.7/dist-packages/keras/engine/training.py:1972: UserWarning: `Model.fit_generator` is deprecated and will be removed in a future version. Please use `Model.fit`, which supports generators.\n",
            "  warnings.warn('`Model.fit_generator` is deprecated and '\n"
          ]
        },
        {
          "output_type": "stream",
          "name": "stdout",
          "text": [
            "Epoch 1/30\n",
            " 63/100 [=================>............] - ETA: 57s - loss: 0.7248 - acc: 0.5040WARNING:tensorflow:Your input ran out of data; interrupting training. Make sure that your dataset or generator can generate at least `steps_per_epoch * epochs` batches (in this case, 3000 batches). You may need to use the repeat() function when building your dataset.\n",
            "100/100 [==============================] - 103s 1s/step - loss: 0.7248 - acc: 0.5040 - val_loss: 0.6914 - val_acc: 0.5125\n"
          ]
        }
      ]
    },
    {
      "cell_type": "code",
      "metadata": {
        "colab": {
          "base_uri": "https://localhost:8080/",
          "height": 545
        },
        "id": "J9sODPbhiNZn",
        "outputId": "96b92a46-5d30-4137-e46d-86c5cf01421c"
      },
      "source": [
        "import matplotlib.pyplot as plt\n",
        "\n",
        "acc = history.history['acc']\n",
        "val_acc = history.history['val_acc']\n",
        "loss = history.history['loss']\n",
        "val_loss = history.history['val_loss']\n",
        "\n",
        "epochs = range(1, len(acc) + 1)\n",
        "\n",
        "plt.plot(epochs, acc, 'bo', label='Training acc')\n",
        "plt.plot(epochs, val_acc, 'b', label='Validation acc')\n",
        "plt.title('Training and validation accuracy')\n",
        "plt.legend()\n",
        "\n",
        "plt.figure()\n",
        "\n",
        "plt.plot(epochs, loss, 'bo', label='Training loss')\n",
        "plt.plot(epochs, val_loss, 'b', label='Validation loss')\n",
        "plt.title('Training and validation loss')\n",
        "plt.legend()\n",
        "\n",
        "plt.show()"
      ],
      "execution_count": 83,
      "outputs": [
        {
          "output_type": "display_data",
          "data": {
            "image/png": "[encoded data removed]",
            "text/plain": [
              "<Figure size 432x288 with 1 Axes>"
            ]
          },
          "metadata": {
            "needs_background": "light"
          }
        },
        {
          "output_type": "display_data",
          "data": {
            "image/png": "[encoded data removed]",
            "text/plain": [
              "<Figure size 432x288 with 1 Axes>"
            ]
          },
          "metadata": {
            "needs_background": "light"
          }
        }
      ]
    }
  ]
}